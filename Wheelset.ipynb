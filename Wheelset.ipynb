{
 "cells": [
  {
   "cell_type": "code",
   "execution_count": null,
   "id": "8b382c46",
   "metadata": {},
   "outputs": [],
   "source": [
    "import fmpy\n",
    "import os\n",
    "\n",
    "\n",
    "fmu_filename = 'Wheelset.fmu'\n",
    "\n",
    "start_values = {\n",
    "    'Write SBR file':           True,\n",
    "    'Output directory':  os.getcwd(),\n",
    "}\n",
    "\n",
    "md  = fmpy.read_model_description(fmu_filename)\n",
    "fmu = fmpy.instantiate_fmu(fmpy.extract(fmu_filename), md, fmi_type='CoSimulation')\n",
    "\n",
    "fmu.enterInitializationMode()\n",
    "fmpy.simulation.apply_start_values(fmu, md, start_values)\n",
    "fmu.exitInitializationMode()\n",
    "\n",
    "time = 0.0\n",
    "stop_time = 2.0\n",
    "step_size = 0.01\n",
    "while time < stop_time:\n",
    "    fmu.doStep(currentCommunicationPoint=time, communicationStepSize=step_size)\n",
    "    time += step_size\n",
    "\n",
    "fmu.terminate()\n",
    "fmu.freeInstance()"
   ]
  }
 ],
 "metadata": {
  "kernelspec": {
   "display_name": "estra (estra-vqFljAxm-py3.12)",
   "language": "python",
   "name": "estra-vqfljaxm-py3.12"
  },
  "language_info": {
   "codemirror_mode": {
    "name": "ipython",
    "version": 3
   },
   "file_extension": ".py",
   "mimetype": "text/x-python",
   "name": "python",
   "nbconvert_exporter": "python",
   "pygments_lexer": "ipython3",
   "version": "3.12.0"
  }
 },
 "nbformat": 4,
 "nbformat_minor": 5
}
